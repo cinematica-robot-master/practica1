{
 "cells": [
  {
   "cell_type": "markdown",
   "metadata": {},
   "source": [
    "# Problemas"
   ]
  },
  {
   "cell_type": "markdown",
   "metadata": {},
   "source": [
    "Crea una función que sea capaz de calcular la matriz de rotación en un plano con cualquier angulo que se le de."
   ]
  },
  {
   "cell_type": "code",
   "execution_count": null,
   "metadata": {
    "nbgrader": {
     "grade": false,
     "grade_id": "cell-cbe6b534af68b731",
     "locked": false,
     "schema_version": 1,
     "solution": true
    }
   },
   "outputs": [],
   "source": [
    "def rotacion(θ):\n",
    "    ### BEGIN SOLUTION HERE\n",
    "    from numpy import matrix, sin, cos\n",
    "    A = matrix([[cos(θ), -sin(θ)],\n",
    "                [sin(θ), cos(θ)]])\n",
    "    return A\n",
    "    ### END SOLUTION HERE"
   ]
  },
  {
   "cell_type": "code",
   "execution_count": null,
   "metadata": {
    "nbgrader": {
     "grade": true,
     "grade_id": "cell-3767258f4db444e1",
     "locked": true,
     "points": 1,
     "schema_version": 1,
     "solution": false
    }
   },
   "outputs": [],
   "source": [
    "from numpy.testing import assert_allclose\n",
    "from numpy import matrix\n",
    "assert_allclose(rotacion(0), matrix([[1, 0], [0, 1]]), rtol=1e-5, atol=1e-5)\n",
    "### BEGIN HIDDEN TESTS\n",
    "from numpy import pi, sin, cos\n",
    "assert_allclose(rotacion(pi), matrix([[-1, 0], [0, -1]]), rtol=1e-5, atol=1e-5)\n",
    "assert_allclose(rotacion(pi/6), matrix([[cos(pi/6), -sin(pi/6)], [sin(pi/6), cos(pi/6)]]), rtol=1e-5, atol=1e-5)\n",
    "### END HIDDEN TESTS"
   ]
  },
  {
   "cell_type": "markdown",
   "metadata": {},
   "source": [
    "Calcule la matriz de rotación en un plano, con un angulo de 30º, 50º y 100º, y guardalos en las variables ```A1```, ```A2```, ```A3```."
   ]
  },
  {
   "cell_type": "code",
   "execution_count": null,
   "metadata": {
    "nbgrader": {
     "grade": false,
     "grade_id": "cell-5856c502c0bdac7c",
     "locked": false,
     "schema_version": 1,
     "solution": true
    }
   },
   "outputs": [],
   "source": [
    "from numpy import pi\n",
    "τ = 2*pi\n",
    "### BEGIN SOLUTION HERE\n",
    "A1 = rotacion(τ*30/360)\n",
    "A2 = rotacion(τ*50/360)\n",
    "A3 = rotacion(τ*100/360)\n",
    "### END SOLUTION HERE"
   ]
  },
  {
   "cell_type": "code",
   "execution_count": null,
   "metadata": {
    "nbgrader": {
     "grade": true,
     "grade_id": "cell-c84ab72c9098ebac",
     "locked": true,
     "points": 1,
     "schema_version": 1,
     "solution": false
    }
   },
   "outputs": [],
   "source": [
    "from numpy.testing import assert_allclose\n",
    "### BEGIN HIDDEN TESTS\n",
    "from numpy import pi\n",
    "τ = 2*pi\n",
    "def prueba_rotacion(θ):\n",
    "    from numpy import matrix, sin, cos\n",
    "    A = matrix([[cos(θ), -sin(θ)],\n",
    "                [sin(θ), cos(θ)]])\n",
    "    return A\n",
    "assert_allclose(A1, prueba_rotacion(τ*30/360), rtol=1e-5, atol=1e-5)\n",
    "assert_allclose(A2, prueba_rotacion(τ*50/360), rtol=1e-5, atol=1e-5)\n",
    "assert_allclose(A3, prueba_rotacion(τ*100/360), rtol=1e-5, atol=1e-5)\n",
    "### END HIDDEN TESTS"
   ]
  },
  {
   "cell_type": "markdown",
   "metadata": {},
   "source": [
    "Aplique las matrices de rotación de 30º, 100º y 50º al vector $\\begin{pmatrix} 2 \\\\ 2\\end{pmatrix}$ y guarde el resultado en la variable ```res1```."
   ]
  },
  {
   "cell_type": "code",
   "execution_count": null,
   "metadata": {
    "nbgrader": {
     "grade": false,
     "grade_id": "cell-44ddf2f4d6904fa6",
     "locked": false,
     "schema_version": 1,
     "solution": true
    }
   },
   "outputs": [],
   "source": [
    "### BEGIN SOLUTION HERE\n",
    "vec = matrix([[2], [2]])\n",
    "res1 = A2@A3@A1@vec\n",
    "### END SOLUTION HERE"
   ]
  },
  {
   "cell_type": "code",
   "execution_count": null,
   "metadata": {
    "nbgrader": {
     "grade": true,
     "grade_id": "cell-54cd99b9320ea064",
     "locked": true,
     "points": 1,
     "schema_version": 1,
     "solution": false
    }
   },
   "outputs": [],
   "source": [
    "from numpy.testing import assert_allclose\n",
    "### BEGIN HIDDEN TESTS\n",
    "vec_prueba = matrix([[2], [2]])\n",
    "assert_allclose(res1, A2@A3@A1@vec_prueba, rtol=1e-5, atol=1e-5)\n",
    "### END HIDDEN TESTS"
   ]
  },
  {
   "cell_type": "markdown",
   "metadata": {},
   "source": [
    "Aplique las matrices de rotación de 50º, 100º y 30º al vector $\\begin{pmatrix} 2 \\\\ 2\\end{pmatrix}$ y guarde el resultado en la variable ```res2```."
   ]
  },
  {
   "cell_type": "code",
   "execution_count": null,
   "metadata": {
    "nbgrader": {
     "grade": false,
     "grade_id": "cell-1f99db1538761d2f",
     "locked": false,
     "schema_version": 1,
     "solution": true
    }
   },
   "outputs": [],
   "source": [
    "### BEGIN SOLUTION HERE\n",
    "vec = matrix([[2], [2]])\n",
    "res1 = A1@A3@A2@vec\n",
    "### END SOLUTION HERE"
   ]
  },
  {
   "cell_type": "code",
   "execution_count": null,
   "metadata": {
    "nbgrader": {
     "grade": true,
     "grade_id": "cell-7423316a8b222d0c",
     "locked": true,
     "points": 1,
     "schema_version": 1,
     "solution": false
    }
   },
   "outputs": [],
   "source": [
    "from numpy.testing import assert_allclose\n",
    "### BEGIN HIDDEN TESTS\n",
    "vec_prueba = matrix([[2], [2]])\n",
    "assert_allclose(res1, A1@A3@A2@vec_prueba, rtol=1e-5, atol=1e-5)\n",
    "### END HIDDEN TESTS"
   ]
  }
 ],
 "metadata": {
  "celltoolbar": "Create Assignment",
  "css": [
   ""
  ],
  "kernelspec": {
   "display_name": "Python 3",
   "language": "python",
   "name": "python3"
  },
  "language_info": {
   "codemirror_mode": {
    "name": "ipython",
    "version": 3
   },
   "file_extension": ".py",
   "mimetype": "text/x-python",
   "name": "python",
   "nbconvert_exporter": "python",
   "pygments_lexer": "ipython3",
   "version": "3.6.4"
  }
 },
 "nbformat": 4,
 "nbformat_minor": 1
}
